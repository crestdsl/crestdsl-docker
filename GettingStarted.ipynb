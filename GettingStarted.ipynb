{
 "cells": [
  {
   "cell_type": "markdown",
   "metadata": {},
   "source": [
    "# Getting Started with CREST\n",
    "CREST is a hybrid modelling DSL (domain-specific language) that focuses on the flow of resources within cyber-physical systems (CPS).\n",
    "\n",
    "CREST is implemented in the Python programming language as the `crestdsl` internal DSL and shipped as Python package.  \n",
    "`crestdsl`'s source code is hosted on GitHub https://github.com/stklik/CREST/\n",
    "\n",
    "\n",
    "## This Notebook\n",
    "The purpose of this notebook is to provide a small showcase of modelling with `crestdsl`.\n",
    "The system to be modelled is a growing lamp that produces light and heat, if the lamp is turned on and electricity is provided."
   ]
  },
  {
   "cell_type": "markdown",
   "metadata": {},
   "source": [
    "## How to use this Jupyter notebook:\n",
    "\n",
    "Select a code-cell (such as the one directly below) and click the `Run` button in the menu bar above to execute it. (Alternatively, you can use the keyboard combination `Ctrl+Enter`.)\n",
    "\n",
    "**Output:** will be shown directly underneath the cell, if there is any.\n",
    "\n",
    "To **run all cells**, you can iteratively execute individual cells, or execute all at once via the menu item `Cell` -> `Run all`  \n",
    "\n",
    "Remember, that the order in which you execute cells is important, not the placement of a cell within the notebook.\n",
    "\n",
    "For a more profound introduction, go and visit the [Project Jupyter](http://jupyter.org/) website. "
   ]
  },
  {
   "cell_type": "code",
   "execution_count": null,
   "metadata": {},
   "outputs": [],
   "source": [
    "print(\"Try executing this cell, so you ge a feeling for it.\")\n",
    "\n",
    "2 + 2  # this should print \"Out[X]: 4\" directly underneath (X will be an index)"
   ]
  },
  {
   "cell_type": "markdown",
   "metadata": {},
   "source": [
    "# Defining a `crestdsl` Model"
   ]
  },
  {
   "cell_type": "markdown",
   "metadata": {},
   "source": [
    "## Import `crestdsl`\n",
    "\n",
    "In order to use `crestdsl`, you have to import it.\n",
    "Initially, we will create work towards creating a system model, so let's import the `model` subpackage."
   ]
  },
  {
   "cell_type": "code",
   "execution_count": null,
   "metadata": {},
   "outputs": [],
   "source": [
    "import crestdsl.model as crest"
   ]
  },
  {
   "cell_type": "markdown",
   "metadata": {},
   "source": [
    "## Define Resources \n",
    "First, it is necessary to define the resource types that will be used in the application.\n",
    "In CREST and `crestdsl`, resources are combinatinos of resource names and their value domains.\n",
    "\n",
    "Value domains can be infinite, such as Real and Integers or discrete such as `[\"on\", \"off\"]`, as shown for the switch."
   ]
  },
  {
   "cell_type": "code",
   "execution_count": null,
   "metadata": {},
   "outputs": [],
   "source": [
    "electricity = crest.Resource(\"Watt\", crest.REAL)\n",
    "switch = crest.Resource(\"switch\", [\"on\", \"off\"])\n",
    "light = crest.Resource(\"Lumen\", crest.INTEGER)\n",
    "counter = crest.Resource(\"Count\", crest.INTEGER)\n",
    "time = crest.Resource(\"minutes\", crest.REAL)\n",
    "celsius = crest.Resource(\"Celsius\", crest.REAL)\n",
    "fahrenheit = crest.Resource(\"Fahrenheit\", crest.REAL)"
   ]
  },
  {
   "cell_type": "markdown",
   "metadata": {},
   "source": [
    "## Our First Entity\n",
    "In CREST any system or component is modelled as Entity.\n",
    "Entities can be composed hierachically  (as we will see later).\n",
    "\n",
    "To model an entity, we define a Python class that inherits from `crest.Entity`.\n",
    "\n",
    "Entities can define \n",
    " - `Input`, `Output` and `Local` ports (variables),\n",
    " - `State` objects and a `current` state\n",
    " - `Transition`s between states\n",
    " - `Influence`s between ports (to express value dependencies between ports)\n",
    " - `Update`s that are continuously executed and write values to a port\n",
    " - and `Action`s, which allow the modelling of discrete changes during transition firings.\n",
    " \n",
    " \n",
    " Below, we define the `LightElement` entity, which models the component that is responsible for producing light from electricity. It defines one input and one output port."
   ]
  },
  {
   "cell_type": "code",
   "execution_count": null,
   "metadata": {
    "code_folding": []
   },
   "outputs": [],
   "source": [
    "class LightElement(crest.Entity):\n",
    "    \"\"\"This is a definition of a new Entity type. It derives from CREST's Entity base class.\"\"\"\n",
    "    \n",
    "    \"\"\"we define ports - each has a resource and an initial value\"\"\"\n",
    "    electricity_in = crest.Input(resource=electricity, value=0)\n",
    "    light_out = crest.Output(resource=light, value=0)\n",
    "    \n",
    "    \"\"\"automaton states - don't forget to specify one as the current state\"\"\"\n",
    "    on = crest.State()\n",
    "    off = current = crest.State()\n",
    "    \n",
    "    \"\"\"transitions and guards (as lambdas)\"\"\"\n",
    "    off_to_on = crest.Transition(source=off, target=on, guard=(lambda self: self.electricity_in.value >= 100))\n",
    "    on_to_off = crest.Transition(source=on, target=off, guard=(lambda self: self.electricity_in.value < 100))\n",
    "    \n",
    "    \"\"\"\n",
    "    update functions. They are related to a state, define the port to be updated and return the port's new value\n",
    "    Remember that updates need two parameters: self and dt.\n",
    "    \"\"\"\n",
    "    @crest.update(state=on, target=light_out)\n",
    "    def set_light_on(self, dt=0):\n",
    "        return 800\n",
    "\n",
    "    @crest.update(state=off, target=light_out)\n",
    "    def set_light_off(self, dt=0):\n",
    "        return 0"
   ]
  },
  {
   "cell_type": "markdown",
   "metadata": {},
   "source": [
    "## Visualising Entities\n",
    "By default, CREST is a graphical language. Therefore it only makes sense to implement a graphical visualisation of `crestdsl` systems.\n",
    "\n",
    "One of the plotting engines is defined in the `crestdsl.ui.elk` module.\n",
    "The code below produces an interactive HTML output. \n",
    "\n",
    "You can easily interact with the model to explore it:\n",
    "\n",
    "- Move objects around if the automatic layout does not provide an sufficiently good layout.\n",
    "- Select ports and states to see their outgoing arcs (blue) and incoming arcs (red).\n",
    "- Hover over transitions, influences and actions to display their name and short summary.\n",
    "- Double click on transitions, influences and actions you will see their source code.\n",
    "- There is a *hot corner* on the top left of each entity. You can double-click it to collapse the entity. This feature is useful for CREST diagrams with many entities. *Unfortunately a software issue prevents the expand/collapse icon not to be displayed. It still works though (notice your cursor changing to a pointer)*\n",
    "\n",
    " \n",
    "**GO AHEAD AND TRY IT**"
   ]
  },
  {
   "cell_type": "code",
   "execution_count": null,
   "metadata": {
    "scrolled": false
   },
   "outputs": [],
   "source": [
    "# import the plotting libraries that can visualise the CREST systems\n",
    "from crestdsl.ui import elk\n",
    "\n",
    "elk.plot(LightElement())"
   ]
  },
  {
   "cell_type": "markdown",
   "metadata": {},
   "source": [
    "## Define Another Entity (The HeatElement)\n",
    "It's time to model the heating component of our growing lamp.\n",
    "Its functionality is simple: if the `switch_in` input is `on`, 1% of the electricity is converted to addtional heat under the lamp.\n",
    "Thus, for example, by providing 100 Watt, the temperature underneath the lamp grows by 1 degree centigrade."
   ]
  },
  {
   "cell_type": "code",
   "execution_count": null,
   "metadata": {
    "code_folding": []
   },
   "outputs": [],
   "source": [
    "class HeatElement(crest.Entity):\n",
    "    \"\"\" Ports \"\"\"\n",
    "    electricity_in = crest.Input(resource=electricity, value=0)\n",
    "    switch_in = crest.Input(resource=switch, value=\"off\")  # the heatelement has its own switch\n",
    "    heat_out = crest.Output(resource=celsius, value=0)      # and produces a celsius value (i.e. the temperature increase underneath the lamp)\n",
    "    \n",
    "    \"\"\" Automaton (States) \"\"\"\n",
    "    state = current = crest.State() # the only state of this entity\n",
    "    \n",
    "    \"\"\"Update\"\"\"\n",
    "    @crest.update(state=state, target=heat_out)\n",
    "    def heat_output(self, dt):\n",
    "        # When the lamp is on, then we convert electricity to temperature at a rate of 100Watt = 1Celsius\n",
    "        if self.switch_in.value == \"on\":\n",
    "            return self.electricity_in.value / 100\n",
    "        else:\n",
    "            return 0\n",
    "\n",
    "# show us what it looks like\n",
    "elk.plot(HeatElement())"
   ]
  },
  {
   "cell_type": "markdown",
   "metadata": {},
   "source": [
    "## Adder - A Logical Entity\n",
    "\n",
    "CREST does not specify a special connector type that defines what is happening for multiple incoming influence, etc. Instead standard entities are used to define add, minimum and maximum calculation which is then written to the actual target port using an influence.\n",
    "\n",
    "We call such entities *logical*, since they don't have a real-world counterpart."
   ]
  },
  {
   "cell_type": "code",
   "execution_count": null,
   "metadata": {},
   "outputs": [],
   "source": [
    "# a logical entity can inherit from LogicalEntity, \n",
    "# to emphasize that it does not relate to the real world\n",
    "class Adder(crest.LogicalEntity):\n",
    "    heat_in = crest.Input(resource=celsius, value=0)\n",
    "    room_temp_in = crest.Input(resource=celsius, value=22)\n",
    "    temperature_out = crest.Output(resource=celsius, value=22)\n",
    "    \n",
    "    state = current = crest.State()\n",
    "    @crest.update(state=state, target=temperature_out)\n",
    "    def add(self, dt):\n",
    "        return self.heat_in.value + self.room_temp_in.value\n",
    "    \n",
    "elk.plot(Adder())  # try adding the display option 'show_update_ports=True' and see what happens!"
   ]
  },
  {
   "cell_type": "markdown",
   "metadata": {},
   "source": [
    "## Put it all together - Create the `GrowLamp`\n",
    "Finally, we create the entire `GrowLamp` entity based on the components we already created.\n",
    "We define subentities in a similar way to all other definitions - as class variables.\n",
    "\n",
    "Additionally, we use influences to connect the ports to each other."
   ]
  },
  {
   "cell_type": "code",
   "execution_count": null,
   "metadata": {
    "scrolled": false
   },
   "outputs": [],
   "source": [
    "class GrowLamp(crest.Entity):\n",
    "    \n",
    "    \"\"\" - - - - - - - PORTS - - - - - - - - - - \"\"\"\n",
    "    electricity_in = crest.Input(resource=electricity, value=0)\n",
    "    switch_in = crest.Input(resource=switch, value=\"off\")\n",
    "    heat_switch_in = crest.Input(resource=switch, value=\"on\")\n",
    "    room_temperature_in = crest.Input(resource=fahrenheit, value=71.6)\n",
    "    \n",
    "    light_out = crest.Output(resource=light, value=3.1415*1000) # note that these are bogus values for now\n",
    "    temperature_out = crest.Output(resource=celsius, value=4242424242) # yes, nonsense..., they are updated when simulated\n",
    "    \n",
    "    on_time = crest.Local(resource=time, value=0)\n",
    "    on_count = crest.Local(resource=counter, value=0)\n",
    "    \n",
    "    \"\"\" - - - - - - - SUBENTITIES - - - - - - - - - - \"\"\"\n",
    "    lightelement = LightElement()\n",
    "    heatelement = HeatElement()\n",
    "    adder = Adder()\n",
    "    \n",
    "    \n",
    "    \"\"\" - - - - - - - INFLUENCES - - - - - - - - - - \"\"\"\n",
    "    \"\"\"\n",
    "    Influences specify a source port and a target port. \n",
    "    They are always executed, independent of the automaton's state.\n",
    "    Since they are called directly with the source-port's value, a self-parameter is not necessary.\n",
    "    \"\"\"\n",
    "    @crest.influence(source=room_temperature_in, target=adder.room_temp_in)\n",
    "    def celsius_to_fahrenheit(value):\n",
    "        return (value - 32) * 5 / 9\n",
    "    \n",
    "    # we can also define updates and influences with lambda functions... \n",
    "    heat_to_add = crest.Influence(source=heatelement.heat_out, target=adder.heat_in, function=(lambda val: val))\n",
    "    \n",
    "    # if the lambda function doesn't do anything (like the one above) we can omit it entirely...\n",
    "    add_to_temp           = crest.Influence(source=adder.temperature_out, target=temperature_out)\n",
    "    light_to_light        = crest.Influence(source=lightelement.light_out, target=light_out)\n",
    "    heat_switch_influence = crest.Influence(source=heat_switch_in, target=heatelement.switch_in)\n",
    "    \n",
    "    \n",
    "    \"\"\" - - - - - - - STATES & TRANSITIONS - - - - - - - - - - \"\"\"\n",
    "    on = crest.State()\n",
    "    off = current = crest.State()\n",
    "    error = crest.State()\n",
    "    \n",
    "    off_to_on = crest.Transition(source=off, target=on, guard=(lambda self: self.switch_in.value == \"on\" and self.electricity_in.value >= 100))\n",
    "    on_to_off = crest.Transition(source=on, target=off, guard=(lambda self: self.switch_in.value == \"off\" or self.electricity_in.value < 100))\n",
    "    \n",
    "    # transition to error state if the lamp ran for more than 1000.5 time units\n",
    "    @crest.transition(source=on, target=error)\n",
    "    def to_error(self):\n",
    "        \"\"\"More complex transitions can be defined as a function. We can use variables and calculations\"\"\"\n",
    "        timeout = self.on_time.value >= 1000.5\n",
    "        heat_is_on = self.heatelement.switch_in.value == \"on\"\n",
    "        return timeout and heat_is_on\n",
    "    \n",
    "    \"\"\" - - - - - - - UPDATES - - - - - - - - - - \"\"\"\n",
    "    # LAMP is OFF or ERROR\n",
    "    @crest.update(state=[off, error], target=lightelement.electricity_in)\n",
    "    def update_light_elec_off(self, dt):\n",
    "        # no electricity\n",
    "        return 0\n",
    "\n",
    "    @crest.update(state=[off, error], target=heatelement.electricity_in)\n",
    "    def update_heat_elec_off(self, dt):\n",
    "        # no electricity\n",
    "        return 0\n",
    "    \n",
    "    \n",
    "    \n",
    "    # LAMP is ON\n",
    "    @crest.update(state=on, target=lightelement.electricity_in)\n",
    "    def update_light_elec_on(self, dt):\n",
    "        # the lightelement gets the first 100Watt\n",
    "        return 100\n",
    "    \n",
    "    @crest.update(state=on, target=heatelement.electricity_in)\n",
    "    def update_heat_elec_on(self, dt):\n",
    "        # the heatelement gets the rest\n",
    "        return self.electricity_in.value - 100\n",
    "        \n",
    "    @crest.update(state=on, target=on_time)\n",
    "    def update_time(self, dt):\n",
    "        # also update the on_time so we know whether we overheat\n",
    "        return self.on_time.value + dt\n",
    "        \n",
    "    \"\"\" - - - - - - - ACTIONS - - - - - - - - - - \"\"\"\n",
    "    # let's add an action that counts the number of times we switch to state \"on\"\n",
    "    @crest.action(transition=off_to_on, target=on_count)\n",
    "    def count_switching_on(self):\n",
    "        \"\"\"\n",
    "        Actions are functions that are executed when the related transition is fired.\n",
    "        Note that actions do not have a dt.\n",
    "        \"\"\"\n",
    "        return self.on_count.value + 1\n",
    "\n",
    "# create an instance!\n",
    "elk.plot(GrowLamp())"
   ]
  },
  {
   "cell_type": "markdown",
   "metadata": {},
   "source": [
    "# Simulation\n",
    "\n",
    "Simulation allows us to execute the model and see its evolution.\n",
    "`crestdsl`'s simulator is located in the `simultion` module. \n",
    "In order to use it, we have to import it."
   ]
  },
  {
   "cell_type": "code",
   "execution_count": null,
   "metadata": {},
   "outputs": [],
   "source": [
    "# import the simulator\n",
    "from crestdsl.simulation import Simulator"
   ]
  },
  {
   "cell_type": "markdown",
   "metadata": {},
   "source": [
    "After the import, we can use a simulator by initialising it with a system model.\n",
    "In our case, we will explore the `GrowLamp` system that we defined above."
   ]
  },
  {
   "cell_type": "code",
   "execution_count": null,
   "metadata": {
    "code_folding": []
   },
   "outputs": [],
   "source": [
    "gl = GrowLamp()\n",
    "sim = Simulator(gl)"
   ]
  },
  {
   "cell_type": "markdown",
   "metadata": {},
   "source": [
    "## Stabilisation\n",
    "The simulator will execute the system's transitions, updates and influences until reaching a fixpoint.\n",
    "This process is referred to as *stabilisation*.\n",
    "Once stable, there are no more transitions can be triggered and all updates/influences/actions have been executed. \n",
    "After stabilisation, all ports have their correct values, calculted from preceeding ports.\n",
    "\n",
    "In the GrowLamp, we see that the value's of the `temperature_out` and `light_out` ports are wrong (based on the dummy values we defined as their initial values).\n",
    "After triggering the stabilisation, these values have been corrected.\n",
    "\n",
    "\n",
    "The simulator also has a convenience API `plot()` that allows the direct plotting of the entity, without having to import and call the `elk` library."
   ]
  },
  {
   "cell_type": "code",
   "execution_count": null,
   "metadata": {},
   "outputs": [],
   "source": [
    "sim.stabilise()\n",
    "sim.plot()"
   ]
  },
  {
   "cell_type": "markdown",
   "metadata": {},
   "source": [
    "Stabilisaiton also has to be called after the modification of input values, such that the new values are used to update any dependent ports.\n",
    "Further, all transitions have to be checked on whether they are enabled and executed if they are.\n",
    "\n",
    "Below, we show the modification of the growlamp and stabilisation.\n",
    "Compare the plot below to the plot above to see that the information has been updated."
   ]
  },
  {
   "cell_type": "code",
   "execution_count": null,
   "metadata": {},
   "outputs": [],
   "source": [
    "# modify the growlamp instance's inputs directly, the simulator points to that object and will use it\n",
    "gl.electricity_in.value = 500\n",
    "gl.switch_in.value = \"on\"\n",
    "sim.stabilise()\n",
    "sim.plot()"
   ]
  },
  {
   "cell_type": "markdown",
   "metadata": {},
   "source": [
    "## Time advance\n",
    "Evidently, we also want to simulate the behaviour over time.\n",
    "The simulator's `advance(dt)` method does precisely that, by advancing `dt` time units.\n",
    "\n",
    "Below we advance 500 time steps. \n",
    "The effect is that the global system time is now `t=500` (see the growing lamp's title bar).\n",
    "Additionally, the local variable `on_time`, which sums up the total amount of time the automaton has spent in the `on` state, has the value of 500 too - Just as expected!"
   ]
  },
  {
   "cell_type": "code",
   "execution_count": null,
   "metadata": {
    "scrolled": false
   },
   "outputs": [],
   "source": [
    "sim.advance(500)\n",
    "sim.plot()"
   ]
  },
  {
   "cell_type": "markdown",
   "metadata": {},
   "source": [
    "# Where to go from here?\n",
    "\n",
    "By now, you have seen how CREST and `crestdsl` can be used to define hybrid system models that combine discrete, autommata aspects with continuous time evolution.\n",
    "\n",
    "`crestdsl` offers more functionality, including the formal verification through *timed CTL* model checking and the generation of system controllers.\n",
    "To learn more about `crestdsl` go ahead and visit the source [repository](https://github.com/stklik/CREST/)."
   ]
  }
 ],
 "metadata": {
  "kernelspec": {
   "display_name": "Python 3",
   "language": "python",
   "name": "python3"
  },
  "language_info": {
   "codemirror_mode": {
    "name": "ipython",
    "version": 3
   },
   "file_extension": ".py",
   "mimetype": "text/x-python",
   "name": "python",
   "nbconvert_exporter": "python",
   "pygments_lexer": "ipython3",
   "version": "3.6.7"
  },
  "toc": {
   "base_numbering": 1,
   "nav_menu": {},
   "number_sections": true,
   "sideBar": true,
   "skip_h1_title": false,
   "title_cell": "Table of Contents",
   "title_sidebar": "Contents",
   "toc_cell": false,
   "toc_position": {},
   "toc_section_display": true,
   "toc_window_display": false
  }
 },
 "nbformat": 4,
 "nbformat_minor": 2
}
